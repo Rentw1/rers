{
 "cells": [
  {
   "cell_type": "code",
   "execution_count": null,
   "metadata": {},
   "outputs": [],
   "source": []
  }
 ],
 "metadata": {
  "kernelspec": {
   "display_name": "Python 3.10.7 64-bit",
   "language": "python",
   "name": "python3"
  },
  "language_info": {
   "name": "python",
   "version": "3.10.7"
  },
  "orig_nbformat": 4,
  "vscode": {
   "interpreter": {
    "hash": "e9b1639638e063f0c0d0d02ebd106fb5eefd83e881bc5bffadfe280e71fa1df6"
   }
  }
 },
 "nbformat": 4,
 "nbformat_minor": 2
}
